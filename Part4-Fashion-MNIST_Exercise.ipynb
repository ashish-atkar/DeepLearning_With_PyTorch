{
 "cells": [
  {
   "cell_type": "markdown",
   "metadata": {},
   "source": [
    "# Classifying Fashion-MNIST\n",
    "\n",
    "Now lets build and train a neural network. We will be using the [Fashion-MNIST dataset](https://github.com/zalandoresearch/fashion-mnist), a drop-in replacement for the MNIST dataset. MNIST is actually quite trivial with neural networks where you can easily achieve better than 97% accuracy. Fashion-MNIST is a set of 28x28 greyscale images of clothes. It's more complex than MNIST, so it's a better representation of the actual performance of your network, and a better representation of datasets you'll use in the real world.\n",
    "\n",
    "<img src='assets/fashion-mnist-sprite.png' width=500px>\n",
    "\n",
    "In this notebook, you will build your own neural network. Feel free to consult the previous notebook though as you work through this.\n",
    "\n",
    "First off, let's load the dataset through torchvision."
   ]
  },
  {
   "cell_type": "code",
   "execution_count": 1,
   "metadata": {},
   "outputs": [],
   "source": [
    "import torch\n",
    "from torchvision import datasets, transforms\n",
    "import helper\n",
    "\n",
    "# Define a transform to normalize the data\n",
    "transform = transforms.Compose([transforms.ToTensor(),\n",
    "                                transforms.Normalize((0.5, 0.5, 0.5), (0.5, 0.5, 0.5))])\n",
    "# Download and load the training data\n",
    "trainset = datasets.FashionMNIST('F_MNIST_data/', download=True, train=True, transform=transform)\n",
    "trainloader = torch.utils.data.DataLoader(trainset, batch_size=64, shuffle=True)\n",
    "\n",
    "# Download and load the test data\n",
    "testset = datasets.FashionMNIST('F_MNIST_data/', download=True, train=False, transform=transform)\n",
    "testloader = torch.utils.data.DataLoader(testset, batch_size=64, shuffle=True)"
   ]
  },
  {
   "cell_type": "markdown",
   "metadata": {},
   "source": [
    "Here we can see one of the images."
   ]
  },
  {
   "cell_type": "code",
   "execution_count": 2,
   "metadata": {},
   "outputs": [
    {
     "data": {
      "image/png": "[encoded data removed]",
      "text/plain": [
       "<matplotlib.figure.Figure at 0x7f074841d898>"
      ]
     },
     "metadata": {
      "needs_background": "light"
     },
     "output_type": "display_data"
    }
   ],
   "source": [
    "image, label = next(iter(trainloader))\n",
    "helper.imshow(image[0,:]);"
   ]
  },
  {
   "cell_type": "markdown",
   "metadata": {},
   "source": [
    "With the data loaded, it's time to import the necessary packages."
   ]
  },
  {
   "cell_type": "code",
   "execution_count": 3,
   "metadata": {},
   "outputs": [],
   "source": [
    "%matplotlib inline\n",
    "%config InlineBackend.figure_format = 'retina'\n",
    "\n",
    "import matplotlib.pyplot as plt\n",
    "import numpy as np\n",
    "import time\n",
    "\n",
    "import torch\n",
    "from torch import nn\n",
    "from torch import optim\n",
    "import torch.nn.functional as F\n",
    "from torchvision import datasets, transforms\n",
    "\n",
    "import helper"
   ]
  },
  {
   "cell_type": "markdown",
   "metadata": {},
   "source": [
    "## Building the network\n",
    "\n",
    "Here you should define your network. As with MNIST, each image is 28x28 which is a total of 784 pixels, and there are 10 classes. You should include at least one hidden layer. We suggest you use ReLU activations for the layers and to return the logits from the forward pass. It's up to you how many layers you add and the size of those layers."
   ]
  },
  {
   "cell_type": "code",
   "execution_count": null,
   "metadata": {},
   "outputs": [],
   "source": [
    "#Before looking at the below cell please try to do it on your own"
   ]
  },
  {
   "cell_type": "code",
   "execution_count": 6,
   "metadata": {},
   "outputs": [
    {
     "data": {
      "text/plain": [
       "Sequential(\n",
       "  (fc1): Linear(in_features=784, out_features=128, bias=True)\n",
       "  (relu1): ReLU()\n",
       "  (fc2): Linear(in_features=128, out_features=64, bias=True)\n",
       "  (relu2): ReLU()\n",
       "  (logits): Linear(in_features=64, out_features=10, bias=True)\n",
       ")"
      ]
     },
     "execution_count": 6,
     "metadata": {},
     "output_type": "execute_result"
    }
   ],
   "source": [
    "\n",
    "from collections import OrderedDict\n",
    "\n",
    "input_size = 784\n",
    "hidden_sizes = [128,64]\n",
    "output_size = 10\n",
    "\n",
    "#build feed forward network\n",
    "model = nn.Sequential(OrderedDict([\n",
    "    ('fc1',nn.Linear(input_size,hidden_sizes[0])),\n",
    "    ('relu1',nn.ReLU()),\n",
    "    ('fc2',nn.Linear(hidden_sizes[0],hidden_sizes[1])),\n",
    "    ('relu2',nn.ReLU()),\n",
    "    ('logits',nn.Linear(hidden_sizes[1],output_size))\n",
    "]\n",
    "))\n",
    "model"
   ]
  },
  {
   "cell_type": "markdown",
   "metadata": {},
   "source": [
    "# Train the network\n",
    "\n",
    "Now you should create your network and train it. First you'll want to define [the criterion](http://pytorch.org/docs/master/nn.html#loss-functions) ( something like `nn.CrossEntropyLoss`) and [the optimizer](http://pytorch.org/docs/master/optim.html) (typically `optim.SGD` or `optim.Adam`).\n",
    "\n",
    "Then write the training code. Remember the training pass is a fairly straightforward process:\n",
    "\n",
    "* Make a forward pass through the network to get the logits \n",
    "* Use the logits to calculate the loss\n",
    "* Perform a backward pass through the network with `loss.backward()` to calculate the gradients\n",
    "* Take a step with the optimizer to update the weights\n",
    "\n",
    "By adjusting the hyperparameters (hidden units, learning rate, etc), you should be able to get the training loss below 0.4."
   ]
  },
  {
   "cell_type": "code",
   "execution_count": 8,
   "metadata": {},
   "outputs": [],
   "source": [
    "#define the criterion and optimizer\n",
    "criterion = nn.CrossEntropyLoss()\n",
    "optimizer = optim.SGD(model.parameters(), lr=0.03) "
   ]
  },
  {
   "cell_type": "code",
   "execution_count": 10,
   "metadata": {},
   "outputs": [
    {
     "name": "stdout",
     "output_type": "stream",
     "text": [
      "Epoch: 1/3... Loss: 2.0377\n",
      "Epoch: 1/3... Loss: 1.3797\n",
      "Epoch: 1/3... Loss: 0.9746\n",
      "Epoch: 1/3... Loss: 0.8214\n",
      "Epoch: 1/3... Loss: 0.7258\n",
      "Epoch: 1/3... Loss: 0.6641\n",
      "Epoch: 1/3... Loss: 0.6413\n",
      "Epoch: 1/3... Loss: 0.6420\n",
      "Epoch: 1/3... Loss: 0.6133\n",
      "Epoch: 1/3... Loss: 0.6044\n",
      "Epoch: 1/3... Loss: 0.5907\n",
      "Epoch: 1/3... Loss: 0.6146\n",
      "Epoch: 1/3... Loss: 0.5543\n",
      "Epoch: 1/3... Loss: 0.5779\n",
      "Epoch: 1/3... Loss: 0.5702\n",
      "Epoch: 1/3... Loss: 0.5250\n",
      "Epoch: 1/3... Loss: 0.5556\n",
      "Epoch: 1/3... Loss: 0.5312\n",
      "Epoch: 1/3... Loss: 0.5363\n",
      "Epoch: 1/3... Loss: 0.4914\n",
      "Epoch: 1/3... Loss: 0.5311\n",
      "Epoch: 1/3... Loss: 0.4953\n",
      "Epoch: 1/3... Loss: 0.4629\n",
      "Epoch: 2/3... Loss: 0.2617\n",
      "Epoch: 2/3... Loss: 0.4793\n",
      "Epoch: 2/3... Loss: 0.4808\n",
      "Epoch: 2/3... Loss: 0.4768\n",
      "Epoch: 2/3... Loss: 0.4889\n",
      "Epoch: 2/3... Loss: 0.4779\n",
      "Epoch: 2/3... Loss: 0.4516\n",
      "Epoch: 2/3... Loss: 0.4707\n",
      "Epoch: 2/3... Loss: 0.4746\n",
      "Epoch: 2/3... Loss: 0.4668\n",
      "Epoch: 2/3... Loss: 0.4578\n",
      "Epoch: 2/3... Loss: 0.4560\n",
      "Epoch: 2/3... Loss: 0.4370\n",
      "Epoch: 2/3... Loss: 0.4310\n",
      "Epoch: 2/3... Loss: 0.4552\n",
      "Epoch: 2/3... Loss: 0.4333\n",
      "Epoch: 2/3... Loss: 0.4489\n",
      "Epoch: 2/3... Loss: 0.4693\n",
      "Epoch: 2/3... Loss: 0.4595\n",
      "Epoch: 2/3... Loss: 0.4265\n",
      "Epoch: 2/3... Loss: 0.4246\n",
      "Epoch: 2/3... Loss: 0.4438\n",
      "Epoch: 2/3... Loss: 0.4396\n",
      "Epoch: 3/3... Loss: 0.0409\n",
      "Epoch: 3/3... Loss: 0.4263\n",
      "Epoch: 3/3... Loss: 0.4208\n",
      "Epoch: 3/3... Loss: 0.4443\n",
      "Epoch: 3/3... Loss: 0.4056\n",
      "Epoch: 3/3... Loss: 0.3914\n",
      "Epoch: 3/3... Loss: 0.4051\n",
      "Epoch: 3/3... Loss: 0.4303\n",
      "Epoch: 3/3... Loss: 0.4110\n",
      "Epoch: 3/3... Loss: 0.4096\n",
      "Epoch: 3/3... Loss: 0.4238\n",
      "Epoch: 3/3... Loss: 0.4113\n",
      "Epoch: 3/3... Loss: 0.4071\n",
      "Epoch: 3/3... Loss: 0.4021\n",
      "Epoch: 3/3... Loss: 0.4243\n",
      "Epoch: 3/3... Loss: 0.4240\n",
      "Epoch: 3/3... Loss: 0.4182\n",
      "Epoch: 3/3... Loss: 0.4246\n",
      "Epoch: 3/3... Loss: 0.3772\n",
      "Epoch: 3/3... Loss: 0.4085\n",
      "Epoch: 3/3... Loss: 0.3803\n",
      "Epoch: 3/3... Loss: 0.4133\n",
      "Epoch: 3/3... Loss: 0.4118\n",
      "Epoch: 3/3... Loss: 0.3904\n"
     ]
    }
   ],
   "source": [
    "#Train the network here\n",
    "epochs = 3\n",
    "print_every = 40\n",
    "steps = 0\n",
    "for e in range(epochs):\n",
    "    running_loss = 0\n",
    "    for images,labels in iter(trainloader):\n",
    "        steps += 1\n",
    "        images.resize_(images.size()[0],784)\n",
    "        \n",
    "        optimizer.zero_grad()\n",
    "        \n",
    "        output = model.forward(images)\n",
    "        loss = criterion(output,labels)\n",
    "        loss.backward()\n",
    "        optimizer.step()\n",
    "        \n",
    "        running_loss += loss.item()\n",
    "        \n",
    "        if steps % print_every == 0:\n",
    "            print(\"Epoch: {}/{}...\".format(e+1,epochs),\n",
    "                 \"Loss: {:.4f}\".format(running_loss/print_every))\n",
    "            \n",
    "            running_loss = 0\n",
    "        "
   ]
  },
  {
   "cell_type": "code",
   "execution_count": 13,
   "metadata": {},
   "outputs": [
    {
     "data": {
      "image/png": "[encoded data removed]",
      "text/plain": [
       "<matplotlib.figure.Figure at 0x7f06f388ba90>"
      ]
     },
     "metadata": {
      "image/png": {
       "height": 204,
       "width": 423
      },
      "needs_background": "light"
     },
     "output_type": "display_data"
    }
   ],
   "source": [
    "# Test out your network!\n",
    "\n",
    "dataiter = iter(testloader)\n",
    "images, labels = dataiter.next()\n",
    "img = images[0]\n",
    "# Convert 2D image to 1D vector\n",
    "img = img.resize_(1, 784)\n",
    "\n",
    "# Calculate the class probabilities (softmax) for img\n",
    "with torch.no_grad():\n",
    "    logits = model.forward(img)\n",
    "\n",
    "ps = F.softmax(logits, dim = 1)\n",
    "\n",
    "# Plot the image and probabilities\n",
    "helper.view_classify(img.resize_(1, 28, 28), ps, version='Fashion')"
   ]
  },
  {
   "cell_type": "code",
   "execution_count": 14,
   "metadata": {},
   "outputs": [
    {
     "data": {
      "image/png": "[encoded data removed]",
      "text/plain": [
       "<matplotlib.figure.Figure at 0x7f06f388ba20>"
      ]
     },
     "metadata": {
      "image/png": {
       "height": 204,
       "width": 423
      },
      "needs_background": "light"
     },
     "output_type": "display_data"
    }
   ],
   "source": [
    "# Test out your network!\n",
    "\n",
    "dataiter = iter(testloader)\n",
    "images, labels = dataiter.next()\n",
    "img = images[10]\n",
    "# Convert 2D image to 1D vector\n",
    "img = img.resize_(1, 784)\n",
    "\n",
    "# Calculate the class probabilities (softmax) for img\n",
    "with torch.no_grad():\n",
    "    logits = model.forward(img)\n",
    "\n",
    "ps = F.softmax(logits, dim = 1)\n",
    "\n",
    "# Plot the image and probabilities\n",
    "helper.view_classify(img.resize_(1, 28, 28), ps, version='Fashion')"
   ]
  },
  {
   "cell_type": "markdown",
   "metadata": {},
   "source": [
    "Now that your network is trained, you'll want to save it to disk so you can load it later instead of training it again. Obviously, it's impractical to train a network every time you need one. In practice, you'll train it once, save the model, then reload it for further training or making predictions. In the next part, I'll show you how to save and load trained models."
   ]
  }
 ],
 "metadata": {
  "kernelspec": {
   "display_name": "Python 3",
   "language": "python",
   "name": "python3"
  },
  "language_info": {
   "codemirror_mode": {
    "name": "ipython",
    "version": 3
   },
   "file_extension": ".py",
   "mimetype": "text/x-python",
   "name": "python",
   "nbconvert_exporter": "python",
   "pygments_lexer": "ipython3",
   "version": "3.6.3"
  }
 },
 "nbformat": 4,
 "nbformat_minor": 2
}
