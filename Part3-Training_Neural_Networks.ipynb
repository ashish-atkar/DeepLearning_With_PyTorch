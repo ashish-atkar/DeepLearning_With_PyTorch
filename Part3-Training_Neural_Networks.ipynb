{
 "cells": [
  {
   "cell_type": "markdown",
   "metadata": {},
   "source": [
    "# Training Neural Networks\n",
    "\n",
    "The network we built in the previous part isn't so smart, it doesn't know anything about our handwritten digits. Neural networks with non-linear activations work like universal function approximators. There is some function that maps your input to the output. For example, images of handwritten digits to class probabilities. The power of neural networks is that we can train them to approximate this function, and basically any function given enough data and compute time.\n",
    "\n",
    "<img src=\"assets/function_approx.png\" width=500px>\n",
    "\n",
    "At first the network is naive, it doesn't know the function mapping the inputs to the outputs. We train the network by showing it examples of real data, then adjusting the network parameters such that it approximates this function.\n",
    "\n",
    "To find these parameters, we need to know how poorly the network is predicting the real outputs. For this we calculate a **loss function** (also called the cost), a measure of our prediction error. For example, the mean squared loss is often used in regression and binary classification problems\n",
    "\n",
    "$$\n",
    "\\ell = \\frac{1}{2n}\\sum_i^n{\\left(y_i - \\hat{y}_i\\right)^2}\n",
    "$$\n",
    "\n",
    "where $n$ is the number of training examples, $y_i$ are the true labels, and $\\hat{y}_i$ are the predicted labels.\n",
    "\n",
    "By minimizing this loss with respect to the network parameters, we can find configurations where the loss is at a minimum and the network is able to predict the correct labels with high accuracy. We find this minimum using a process called **gradient descent**. The gradient is the slope of the loss function and points in the direction of fastest change. To get to the minimum in the least amount of time, we then want to follow the gradient (downwards). You can think of this like descending a mountain by following the steepest slope to the base.\n",
    "\n",
    "<img src='assets/gradient_descent.png' width=350px>"
   ]
  },
  {
   "cell_type": "markdown",
   "metadata": {},
   "source": [
    "## Backpropagation\n",
    "\n",
    "For single layer networks, gradient descent is simple to implement. However, it's more complicated for deeper, multilayer neural networks like the one we've built. Complicated enough that it took about 30 years before researchers figured out how to train multilayer networks, although it's straightforward once you learn about it. \n",
    "\n",
    "This is done through **backpropagation** which is really just an application of the chain rule from calculus. It's easiest to understand if we convert a two layer network into a graph representation.\n",
    "\n",
    "<img src='assets/w1_backprop_graph.png' width=400px>\n",
    "\n",
    "In the forward pass through the network, our data and operations go from right to left here. To train the weights with gradient descent, we propagate the gradient of the cost backwards through the network. Mathematically, this is really just calculating the gradient of the loss with respect to the weights using the chain rule.\n",
    "\n",
    "$$\n",
    "\\frac{\\partial \\ell}{\\partial w_1} = \\frac{\\partial l_1}{\\partial w_1} \\frac{\\partial s}{\\partial l_1} \\frac{\\partial l_2}{\\partial s} \\frac{\\partial \\ell}{\\partial l_2}\n",
    "$$\n",
    "\n",
    "We update our weights using this gradient with some learning rate $\\alpha$. \n",
    "\n",
    "$$\n",
    "w^\\prime = w - \\alpha \\frac{\\partial \\ell}{\\partial w}\n",
    "$$\n",
    "\n",
    "The learning rate is set such that the weight update steps are small enough that the iterative method settles in a minimum.\n",
    "\n",
    "The first thing we need to do for training is define our loss function. In PyTorch, you'll usually see this as `criterion`. Here we're using softmax output, so we want to use `criterion = nn.CrossEntropyLoss()` as our loss. Later when training, you use `loss = criterion(output, targets)` to calculate the actual loss.\n",
    "\n",
    "We also need to define the optimizer we're using, SGD or Adam, or something along those lines. Here I'll just use SGD with `torch.optim.SGD`, passing in the network parameters and the learning rate."
   ]
  },
  {
   "cell_type": "code",
   "execution_count": 4,
   "metadata": {},
   "outputs": [],
   "source": [
    "%matplotlib inline\n",
    "%config InlineBackend.figure_format = 'retina'\n",
    "\n",
    "from collections import OrderedDict\n",
    "\n",
    "import numpy as np\n",
    "import time\n",
    "\n",
    "import torch\n",
    "from torch import nn\n",
    "from torch import optim\n",
    "import torch.nn.functional as F\n",
    "\n",
    "import helper"
   ]
  },
  {
   "cell_type": "markdown",
   "metadata": {},
   "source": [
    "## Get the data and define the network\n",
    "\n",
    "We'll load the MNIST dataset and define our network."
   ]
  },
  {
   "cell_type": "code",
   "execution_count": 5,
   "metadata": {},
   "outputs": [],
   "source": [
    "from torchvision import datasets, transforms\n",
    "\n",
    "# Define a transform to normalize the data\n",
    "transform = transforms.Compose([transforms.ToTensor(),\n",
    "                              transforms.Normalize((0.5, 0.5, 0.5), (0.5, 0.5, 0.5)),\n",
    "                             ])\n",
    "# Download and load the training data\n",
    "trainset = datasets.MNIST('MNIST_data/', download=True, train=True, transform=transform)\n",
    "trainloader = torch.utils.data.DataLoader(trainset, batch_size=64, shuffle=True)"
   ]
  },
  {
   "cell_type": "markdown",
   "metadata": {},
   "source": [
    "I'll build a network with `nn.Sequential` here. Only difference from the last part is I'm not actually using softmax on the output, but instead just using the raw output from the last layer. This is because the output from softmax is a probability distribution. Often, the output will have values really close to zero or really close to one. Due to [inaccuracies with representing numbers as floating points](https://docs.python.org/3/tutorial/floatingpoint.html), computations with a softmax output can lose accuracy and become unstable. To get around this, we'll use the raw output, called the **logits**, to calculate the loss."
   ]
  },
  {
   "cell_type": "code",
   "execution_count": 6,
   "metadata": {},
   "outputs": [],
   "source": [
    "# Hyperparameters for our network\n",
    "input_size = 784\n",
    "hidden_sizes = [128, 64]\n",
    "output_size = 10\n",
    "\n",
    "# Build a feed-forward network\n",
    "model = nn.Sequential(OrderedDict([\n",
    "                      ('fc1', nn.Linear(input_size, hidden_sizes[0])),\n",
    "                      ('relu1', nn.ReLU()),\n",
    "                      ('fc2', nn.Linear(hidden_sizes[0], hidden_sizes[1])),\n",
    "                      ('relu2', nn.ReLU()),\n",
    "                      ('logits', nn.Linear(hidden_sizes[1], output_size))]))"
   ]
  },
  {
   "cell_type": "markdown",
   "metadata": {},
   "source": [
    "## Training the network!\n",
    "\n",
    "The first thing we need to do for training is define our loss function. In PyTorch, you'll usually see this as `criterion`. Here we're using softmax output, so we want to use `criterion = nn.CrossEntropyLoss()` as our loss. Later when training, you use `loss = criterion(output, targets)` to calculate the actual loss.\n",
    "\n",
    "We also need to define the optimizer we're using, SGD or Adam, or something along those lines. Here I'll just use SGD with `torch.optim.SGD`, passing in the network parameters and the learning rate."
   ]
  },
  {
   "cell_type": "code",
   "execution_count": 7,
   "metadata": {},
   "outputs": [],
   "source": [
    "criterion = nn.CrossEntropyLoss()\n",
    "optimizer = optim.SGD(model.parameters(), lr=0.01)     #lr - Learning Rate"
   ]
  },
  {
   "cell_type": "markdown",
   "metadata": {},
   "source": [
    "First, let's consider just one learning step before looping through all the data. The general process with PyTorch:\n",
    "\n",
    "* Make a forward pass through the network to get the logits \n",
    "* Use the logits to calculate the loss\n",
    "* Perform a backward pass through the network with `loss.backward()` to calculate the gradients\n",
    "* Take a step with the optimizer to update the weights\n",
    "\n",
    "Below I'll go through one training step and print out the weights and gradients so you can see how it changes."
   ]
  },
  {
   "cell_type": "code",
   "execution_count": 8,
   "metadata": {},
   "outputs": [
    {
     "name": "stdout",
     "output_type": "stream",
     "text": [
      "Initial weights -  Parameter containing:\n",
      "tensor([[ 2.8603e-02, -3.4126e-02, -3.1094e-02,  ...,  1.7816e-02,\n",
      "         -1.9694e-02,  3.1239e-02],\n",
      "        [ 6.1403e-03,  4.7734e-03,  3.0663e-02,  ...,  1.7678e-02,\n",
      "         -3.3035e-04,  2.8328e-02],\n",
      "        [-2.6556e-03, -8.8174e-03,  2.8560e-02,  ...,  2.8320e-02,\n",
      "          1.3527e-02,  1.1534e-03],\n",
      "        ...,\n",
      "        [-2.0588e-02, -5.9039e-03, -2.7142e-02,  ...,  2.9753e-02,\n",
      "          7.1673e-04, -7.2021e-03],\n",
      "        [-3.5151e-02,  3.2930e-03,  2.7847e-02,  ..., -1.2637e-02,\n",
      "          1.8798e-02,  2.1342e-02],\n",
      "        [ 1.2539e-02,  2.9712e-02, -4.8563e-03,  ...,  1.7411e-02,\n",
      "          6.2119e-05, -2.3702e-02]])\n",
      "Gradient - tensor(1.00000e-02 *\n",
      "       [[ 0.5886,  0.5886,  0.5886,  ...,  0.5886,  0.5886,  0.5886],\n",
      "        [ 0.0043,  0.0043,  0.0043,  ...,  0.0043,  0.0043,  0.0043],\n",
      "        [-0.0459, -0.0459, -0.0459,  ..., -0.0459, -0.0459, -0.0459],\n",
      "        ...,\n",
      "        [ 0.0490,  0.0490,  0.0490,  ...,  0.0490,  0.0490,  0.0490],\n",
      "        [-0.2795, -0.2795, -0.2795,  ..., -0.2795, -0.2795, -0.2795],\n",
      "        [ 0.0047,  0.0047,  0.0047,  ...,  0.0047,  0.0047,  0.0047]])\n"
     ]
    }
   ],
   "source": [
    "print('Initial weights - ', model.fc1.weight)\n",
    "\n",
    "images, labels = next(iter(trainloader))\n",
    "images.resize_(64, 784)\n",
    "\n",
    "# Clear the gradients, do this because gradients are accumulated\n",
    "optimizer.zero_grad()\n",
    "\n",
    "# Forward pass, then backward pass, then update weights\n",
    "output = model.forward(images)\n",
    "loss = criterion(output, labels)\n",
    "loss.backward()\n",
    "print('Gradient -', model.fc1.weight.grad)\n",
    "optimizer.step()"
   ]
  },
  {
   "cell_type": "code",
   "execution_count": 9,
   "metadata": {},
   "outputs": [
    {
     "name": "stdout",
     "output_type": "stream",
     "text": [
      "Updated weights -  Parameter containing:\n",
      "tensor([[ 2.8544e-02, -3.4185e-02, -3.1153e-02,  ...,  1.7757e-02,\n",
      "         -1.9753e-02,  3.1180e-02],\n",
      "        [ 6.1399e-03,  4.7729e-03,  3.0663e-02,  ...,  1.7678e-02,\n",
      "         -3.3078e-04,  2.8328e-02],\n",
      "        [-2.6510e-03, -8.8129e-03,  2.8565e-02,  ...,  2.8324e-02,\n",
      "          1.3532e-02,  1.1580e-03],\n",
      "        ...,\n",
      "        [-2.0593e-02, -5.9088e-03, -2.7147e-02,  ...,  2.9748e-02,\n",
      "          7.1183e-04, -7.2070e-03],\n",
      "        [-3.5124e-02,  3.3210e-03,  2.7875e-02,  ..., -1.2609e-02,\n",
      "          1.8826e-02,  2.1370e-02],\n",
      "        [ 1.2538e-02,  2.9711e-02, -4.8568e-03,  ...,  1.7411e-02,\n",
      "          6.1650e-05, -2.3703e-02]])\n"
     ]
    }
   ],
   "source": [
    "print('Updated weights - ', model.fc1.weight)"
   ]
  },
  {
   "cell_type": "markdown",
   "metadata": {},
   "source": [
    "### Training for real\n",
    "\n",
    "Now we'll put this algorithm into a loop so we can go through all the images. This is fairly straightforward. We'll loop through the mini-batches in our dataset, pass the data through the network to calculate the losses, get the gradients, then run the optimizer."
   ]
  },
  {
   "cell_type": "code",
   "execution_count": 10,
   "metadata": {},
   "outputs": [],
   "source": [
    "optimizer = optim.SGD(model.parameters(), lr=0.003)"
   ]
  },
  {
   "cell_type": "code",
   "execution_count": 11,
   "metadata": {},
   "outputs": [
    {
     "name": "stdout",
     "output_type": "stream",
     "text": [
      "Epoch: 1/3...  Loss: 2.2999\n",
      "Epoch: 1/3...  Loss: 2.2851\n",
      "Epoch: 1/3...  Loss: 2.2691\n",
      "Epoch: 1/3...  Loss: 2.2532\n",
      "Epoch: 1/3...  Loss: 2.2389\n",
      "Epoch: 1/3...  Loss: 2.2193\n",
      "Epoch: 1/3...  Loss: 2.1990\n",
      "Epoch: 1/3...  Loss: 2.1761\n",
      "Epoch: 1/3...  Loss: 2.1503\n",
      "Epoch: 1/3...  Loss: 2.1236\n",
      "Epoch: 1/3...  Loss: 2.0946\n",
      "Epoch: 1/3...  Loss: 2.0520\n",
      "Epoch: 1/3...  Loss: 2.0103\n",
      "Epoch: 1/3...  Loss: 1.9634\n",
      "Epoch: 1/3...  Loss: 1.9136\n",
      "Epoch: 1/3...  Loss: 1.8464\n",
      "Epoch: 1/3...  Loss: 1.7985\n",
      "Epoch: 1/3...  Loss: 1.7452\n",
      "Epoch: 1/3...  Loss: 1.6496\n",
      "Epoch: 1/3...  Loss: 1.6247\n",
      "Epoch: 1/3...  Loss: 1.5453\n",
      "Epoch: 1/3...  Loss: 1.4788\n",
      "Epoch: 1/3...  Loss: 1.4145\n",
      "Epoch: 2/3...  Loss: 0.7350\n",
      "Epoch: 2/3...  Loss: 1.2765\n",
      "Epoch: 2/3...  Loss: 1.2244\n",
      "Epoch: 2/3...  Loss: 1.1774\n",
      "Epoch: 2/3...  Loss: 1.1260\n",
      "Epoch: 2/3...  Loss: 1.0792\n",
      "Epoch: 2/3...  Loss: 1.0193\n",
      "Epoch: 2/3...  Loss: 0.9883\n",
      "Epoch: 2/3...  Loss: 0.9572\n",
      "Epoch: 2/3...  Loss: 0.9393\n",
      "Epoch: 2/3...  Loss: 0.8487\n",
      "Epoch: 2/3...  Loss: 0.8611\n",
      "Epoch: 2/3...  Loss: 0.8236\n",
      "Epoch: 2/3...  Loss: 0.7835\n",
      "Epoch: 2/3...  Loss: 0.7746\n",
      "Epoch: 2/3...  Loss: 0.7758\n",
      "Epoch: 2/3...  Loss: 0.7266\n",
      "Epoch: 2/3...  Loss: 0.7184\n",
      "Epoch: 2/3...  Loss: 0.7024\n",
      "Epoch: 2/3...  Loss: 0.6815\n",
      "Epoch: 2/3...  Loss: 0.6574\n",
      "Epoch: 2/3...  Loss: 0.6450\n",
      "Epoch: 2/3...  Loss: 0.6322\n",
      "Epoch: 3/3...  Loss: 0.0555\n",
      "Epoch: 3/3...  Loss: 0.6306\n",
      "Epoch: 3/3...  Loss: 0.5947\n",
      "Epoch: 3/3...  Loss: 0.5962\n",
      "Epoch: 3/3...  Loss: 0.5927\n",
      "Epoch: 3/3...  Loss: 0.5793\n",
      "Epoch: 3/3...  Loss: 0.5820\n",
      "Epoch: 3/3...  Loss: 0.5661\n",
      "Epoch: 3/3...  Loss: 0.5658\n",
      "Epoch: 3/3...  Loss: 0.5805\n",
      "Epoch: 3/3...  Loss: 0.5300\n",
      "Epoch: 3/3...  Loss: 0.4995\n",
      "Epoch: 3/3...  Loss: 0.5324\n",
      "Epoch: 3/3...  Loss: 0.5344\n",
      "Epoch: 3/3...  Loss: 0.5119\n",
      "Epoch: 3/3...  Loss: 0.4788\n",
      "Epoch: 3/3...  Loss: 0.5161\n",
      "Epoch: 3/3...  Loss: 0.4890\n",
      "Epoch: 3/3...  Loss: 0.5011\n",
      "Epoch: 3/3...  Loss: 0.4608\n",
      "Epoch: 3/3...  Loss: 0.5009\n",
      "Epoch: 3/3...  Loss: 0.4839\n",
      "Epoch: 3/3...  Loss: 0.4655\n",
      "Epoch: 3/3...  Loss: 0.4776\n"
     ]
    }
   ],
   "source": [
    "epochs = 3\n",
    "print_every = 40\n",
    "steps = 0\n",
    "for e in range(epochs):\n",
    "    running_loss = 0\n",
    "    for images, labels in iter(trainloader):\n",
    "        steps += 1\n",
    "        # Flatten MNIST images into a 784 long vector\n",
    "        images.resize_(images.size()[0], 784)\n",
    "        \n",
    "        optimizer.zero_grad()\n",
    "        \n",
    "        # Forward and backward passes\n",
    "        output = model.forward(images)\n",
    "        loss = criterion(output, labels)\n",
    "        loss.backward()\n",
    "        optimizer.step()\n",
    "        \n",
    "        running_loss += loss.item()\n",
    "        \n",
    "        if steps % print_every == 0:\n",
    "            print(\"Epoch: {}/{}... \".format(e+1, epochs),\n",
    "                  \"Loss: {:.4f}\".format(running_loss/print_every))\n",
    "            \n",
    "            running_loss = 0"
   ]
  },
  {
   "cell_type": "markdown",
   "metadata": {},
   "source": [
    "With the network trained, we can check out it's predictions."
   ]
  },
  {
   "cell_type": "code",
   "execution_count": 12,
   "metadata": {},
   "outputs": [
    {
     "data": {
      "image/png": "[encoded data removed]",
      "text/plain": [
       "<matplotlib.figure.Figure at 0x7fcdb1aec978>"
      ]
     },
     "metadata": {
      "image/png": {
       "height": 224,
       "width": 423
      },
      "needs_background": "light"
     },
     "output_type": "display_data"
    }
   ],
   "source": [
    "images, labels = next(iter(trainloader))\n",
    "\n",
    "img = images[0].view(1, 784)\n",
    "# Turn off gradients to speed up this part\n",
    "with torch.no_grad():\n",
    "    logits = model.forward(img)\n",
    "\n",
    "# Output of the network are logits, need to take softmax for probabilities\n",
    "ps = F.softmax(logits, dim=1)\n",
    "helper.view_classify(img.view(1, 28, 28), ps)                 #for this line to execute properly you need helper.py in parent directory"
   ]
  },
  {
   "cell_type": "markdown",
   "metadata": {},
   "source": [
    "Now our network is brilliant. It can accurately predict the digits in our images. Next up you'll write the code for training a neural network on a more complex dataset."
   ]
  }
 ],
 "metadata": {
  "kernelspec": {
   "display_name": "Python 3",
   "language": "python",
   "name": "python3"
  },
  "language_info": {
   "codemirror_mode": {
    "name": "ipython",
    "version": 3
   },
   "file_extension": ".py",
   "mimetype": "text/x-python",
   "name": "python",
   "nbconvert_exporter": "python",
   "pygments_lexer": "ipython3",
   "version": "3.6.3"
  }
 },
 "nbformat": 4,
 "nbformat_minor": 2
}
